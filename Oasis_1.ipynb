{
 "cells": [
  {
   "cell_type": "markdown",
   "id": "4016694a",
   "metadata": {},
   "source": [
    "# Sales Predication"
   ]
  },
  {
   "cell_type": "code",
   "execution_count": 1,
   "id": "1b65dd01",
   "metadata": {},
   "outputs": [],
   "source": [
    "import numpy as np\n",
    "import pandas as pd\n",
    "import matplotlib.pyplot as pl"
   ]
  },
  {
   "cell_type": "markdown",
   "id": "cfbfa891",
   "metadata": {},
   "source": [
    "## Data analysis"
   ]
  },
  {
   "cell_type": "code",
   "execution_count": 2,
   "id": "6e3f573f",
   "metadata": {},
   "outputs": [],
   "source": [
    "df=pd.read_csv(\"Advertising.csv\")"
   ]
  },
  {
   "cell_type": "code",
   "execution_count": 3,
   "id": "04235f78",
   "metadata": {},
   "outputs": [
    {
     "data": {
      "text/html": [
       "<div>\n",
       "<style scoped>\n",
       "    .dataframe tbody tr th:only-of-type {\n",
       "        vertical-align: middle;\n",
       "    }\n",
       "\n",
       "    .dataframe tbody tr th {\n",
       "        vertical-align: top;\n",
       "    }\n",
       "\n",
       "    .dataframe thead th {\n",
       "        text-align: right;\n",
       "    }\n",
       "</style>\n",
       "<table border=\"1\" class=\"dataframe\">\n",
       "  <thead>\n",
       "    <tr style=\"text-align: right;\">\n",
       "      <th></th>\n",
       "      <th>Unnamed: 0</th>\n",
       "      <th>TV</th>\n",
       "      <th>Radio</th>\n",
       "      <th>Newspaper</th>\n",
       "      <th>Sales</th>\n",
       "    </tr>\n",
       "  </thead>\n",
       "  <tbody>\n",
       "    <tr>\n",
       "      <th>0</th>\n",
       "      <td>1</td>\n",
       "      <td>230.1</td>\n",
       "      <td>37.8</td>\n",
       "      <td>69.2</td>\n",
       "      <td>22.1</td>\n",
       "    </tr>\n",
       "    <tr>\n",
       "      <th>1</th>\n",
       "      <td>2</td>\n",
       "      <td>44.5</td>\n",
       "      <td>39.3</td>\n",
       "      <td>45.1</td>\n",
       "      <td>10.4</td>\n",
       "    </tr>\n",
       "    <tr>\n",
       "      <th>2</th>\n",
       "      <td>3</td>\n",
       "      <td>17.2</td>\n",
       "      <td>45.9</td>\n",
       "      <td>69.3</td>\n",
       "      <td>9.3</td>\n",
       "    </tr>\n",
       "    <tr>\n",
       "      <th>3</th>\n",
       "      <td>4</td>\n",
       "      <td>151.5</td>\n",
       "      <td>41.3</td>\n",
       "      <td>58.5</td>\n",
       "      <td>18.5</td>\n",
       "    </tr>\n",
       "    <tr>\n",
       "      <th>4</th>\n",
       "      <td>5</td>\n",
       "      <td>180.8</td>\n",
       "      <td>10.8</td>\n",
       "      <td>58.4</td>\n",
       "      <td>12.9</td>\n",
       "    </tr>\n",
       "    <tr>\n",
       "      <th>...</th>\n",
       "      <td>...</td>\n",
       "      <td>...</td>\n",
       "      <td>...</td>\n",
       "      <td>...</td>\n",
       "      <td>...</td>\n",
       "    </tr>\n",
       "    <tr>\n",
       "      <th>195</th>\n",
       "      <td>196</td>\n",
       "      <td>38.2</td>\n",
       "      <td>3.7</td>\n",
       "      <td>13.8</td>\n",
       "      <td>7.6</td>\n",
       "    </tr>\n",
       "    <tr>\n",
       "      <th>196</th>\n",
       "      <td>197</td>\n",
       "      <td>94.2</td>\n",
       "      <td>4.9</td>\n",
       "      <td>8.1</td>\n",
       "      <td>9.7</td>\n",
       "    </tr>\n",
       "    <tr>\n",
       "      <th>197</th>\n",
       "      <td>198</td>\n",
       "      <td>177.0</td>\n",
       "      <td>9.3</td>\n",
       "      <td>6.4</td>\n",
       "      <td>12.8</td>\n",
       "    </tr>\n",
       "    <tr>\n",
       "      <th>198</th>\n",
       "      <td>199</td>\n",
       "      <td>283.6</td>\n",
       "      <td>42.0</td>\n",
       "      <td>66.2</td>\n",
       "      <td>25.5</td>\n",
       "    </tr>\n",
       "    <tr>\n",
       "      <th>199</th>\n",
       "      <td>200</td>\n",
       "      <td>232.1</td>\n",
       "      <td>8.6</td>\n",
       "      <td>8.7</td>\n",
       "      <td>13.4</td>\n",
       "    </tr>\n",
       "  </tbody>\n",
       "</table>\n",
       "<p>200 rows × 5 columns</p>\n",
       "</div>"
      ],
      "text/plain": [
       "     Unnamed: 0     TV  Radio  Newspaper  Sales\n",
       "0             1  230.1   37.8       69.2   22.1\n",
       "1             2   44.5   39.3       45.1   10.4\n",
       "2             3   17.2   45.9       69.3    9.3\n",
       "3             4  151.5   41.3       58.5   18.5\n",
       "4             5  180.8   10.8       58.4   12.9\n",
       "..          ...    ...    ...        ...    ...\n",
       "195         196   38.2    3.7       13.8    7.6\n",
       "196         197   94.2    4.9        8.1    9.7\n",
       "197         198  177.0    9.3        6.4   12.8\n",
       "198         199  283.6   42.0       66.2   25.5\n",
       "199         200  232.1    8.6        8.7   13.4\n",
       "\n",
       "[200 rows x 5 columns]"
      ]
     },
     "execution_count": 3,
     "metadata": {},
     "output_type": "execute_result"
    }
   ],
   "source": [
    "df"
   ]
  },
  {
   "cell_type": "code",
   "execution_count": 4,
   "id": "c30d29f4",
   "metadata": {},
   "outputs": [
    {
     "name": "stdout",
     "output_type": "stream",
     "text": [
      "<class 'pandas.core.frame.DataFrame'>\n",
      "RangeIndex: 200 entries, 0 to 199\n",
      "Data columns (total 5 columns):\n",
      " #   Column      Non-Null Count  Dtype  \n",
      "---  ------      --------------  -----  \n",
      " 0   Unnamed: 0  200 non-null    int64  \n",
      " 1   TV          200 non-null    float64\n",
      " 2   Radio       200 non-null    float64\n",
      " 3   Newspaper   200 non-null    float64\n",
      " 4   Sales       200 non-null    float64\n",
      "dtypes: float64(4), int64(1)\n",
      "memory usage: 7.9 KB\n"
     ]
    }
   ],
   "source": [
    "df.info()"
   ]
  },
  {
   "cell_type": "code",
   "execution_count": 5,
   "id": "6c683010",
   "metadata": {},
   "outputs": [
    {
     "data": {
      "text/html": [
       "<div>\n",
       "<style scoped>\n",
       "    .dataframe tbody tr th:only-of-type {\n",
       "        vertical-align: middle;\n",
       "    }\n",
       "\n",
       "    .dataframe tbody tr th {\n",
       "        vertical-align: top;\n",
       "    }\n",
       "\n",
       "    .dataframe thead th {\n",
       "        text-align: right;\n",
       "    }\n",
       "</style>\n",
       "<table border=\"1\" class=\"dataframe\">\n",
       "  <thead>\n",
       "    <tr style=\"text-align: right;\">\n",
       "      <th></th>\n",
       "      <th>Unnamed: 0</th>\n",
       "      <th>TV</th>\n",
       "      <th>Radio</th>\n",
       "      <th>Newspaper</th>\n",
       "      <th>Sales</th>\n",
       "    </tr>\n",
       "  </thead>\n",
       "  <tbody>\n",
       "    <tr>\n",
       "      <th>0</th>\n",
       "      <td>False</td>\n",
       "      <td>False</td>\n",
       "      <td>False</td>\n",
       "      <td>False</td>\n",
       "      <td>False</td>\n",
       "    </tr>\n",
       "    <tr>\n",
       "      <th>1</th>\n",
       "      <td>False</td>\n",
       "      <td>False</td>\n",
       "      <td>False</td>\n",
       "      <td>False</td>\n",
       "      <td>False</td>\n",
       "    </tr>\n",
       "    <tr>\n",
       "      <th>2</th>\n",
       "      <td>False</td>\n",
       "      <td>False</td>\n",
       "      <td>False</td>\n",
       "      <td>False</td>\n",
       "      <td>False</td>\n",
       "    </tr>\n",
       "    <tr>\n",
       "      <th>3</th>\n",
       "      <td>False</td>\n",
       "      <td>False</td>\n",
       "      <td>False</td>\n",
       "      <td>False</td>\n",
       "      <td>False</td>\n",
       "    </tr>\n",
       "    <tr>\n",
       "      <th>4</th>\n",
       "      <td>False</td>\n",
       "      <td>False</td>\n",
       "      <td>False</td>\n",
       "      <td>False</td>\n",
       "      <td>False</td>\n",
       "    </tr>\n",
       "    <tr>\n",
       "      <th>...</th>\n",
       "      <td>...</td>\n",
       "      <td>...</td>\n",
       "      <td>...</td>\n",
       "      <td>...</td>\n",
       "      <td>...</td>\n",
       "    </tr>\n",
       "    <tr>\n",
       "      <th>195</th>\n",
       "      <td>False</td>\n",
       "      <td>False</td>\n",
       "      <td>False</td>\n",
       "      <td>False</td>\n",
       "      <td>False</td>\n",
       "    </tr>\n",
       "    <tr>\n",
       "      <th>196</th>\n",
       "      <td>False</td>\n",
       "      <td>False</td>\n",
       "      <td>False</td>\n",
       "      <td>False</td>\n",
       "      <td>False</td>\n",
       "    </tr>\n",
       "    <tr>\n",
       "      <th>197</th>\n",
       "      <td>False</td>\n",
       "      <td>False</td>\n",
       "      <td>False</td>\n",
       "      <td>False</td>\n",
       "      <td>False</td>\n",
       "    </tr>\n",
       "    <tr>\n",
       "      <th>198</th>\n",
       "      <td>False</td>\n",
       "      <td>False</td>\n",
       "      <td>False</td>\n",
       "      <td>False</td>\n",
       "      <td>False</td>\n",
       "    </tr>\n",
       "    <tr>\n",
       "      <th>199</th>\n",
       "      <td>False</td>\n",
       "      <td>False</td>\n",
       "      <td>False</td>\n",
       "      <td>False</td>\n",
       "      <td>False</td>\n",
       "    </tr>\n",
       "  </tbody>\n",
       "</table>\n",
       "<p>200 rows × 5 columns</p>\n",
       "</div>"
      ],
      "text/plain": [
       "     Unnamed: 0     TV  Radio  Newspaper  Sales\n",
       "0         False  False  False      False  False\n",
       "1         False  False  False      False  False\n",
       "2         False  False  False      False  False\n",
       "3         False  False  False      False  False\n",
       "4         False  False  False      False  False\n",
       "..          ...    ...    ...        ...    ...\n",
       "195       False  False  False      False  False\n",
       "196       False  False  False      False  False\n",
       "197       False  False  False      False  False\n",
       "198       False  False  False      False  False\n",
       "199       False  False  False      False  False\n",
       "\n",
       "[200 rows x 5 columns]"
      ]
     },
     "execution_count": 5,
     "metadata": {},
     "output_type": "execute_result"
    }
   ],
   "source": [
    "df.isnull()"
   ]
  },
  {
   "cell_type": "code",
   "execution_count": 6,
   "id": "1922c510",
   "metadata": {},
   "outputs": [
    {
     "data": {
      "text/plain": [
       "Unnamed: 0    0\n",
       "TV            0\n",
       "Radio         0\n",
       "Newspaper     0\n",
       "Sales         0\n",
       "dtype: int64"
      ]
     },
     "execution_count": 6,
     "metadata": {},
     "output_type": "execute_result"
    }
   ],
   "source": [
    "df.isnull().sum()"
   ]
  },
  {
   "cell_type": "code",
   "execution_count": 7,
   "id": "d8b5dae7",
   "metadata": {},
   "outputs": [
    {
     "data": {
      "text/plain": [
       "<bound method NDFrame.describe of      Unnamed: 0     TV  Radio  Newspaper  Sales\n",
       "0             1  230.1   37.8       69.2   22.1\n",
       "1             2   44.5   39.3       45.1   10.4\n",
       "2             3   17.2   45.9       69.3    9.3\n",
       "3             4  151.5   41.3       58.5   18.5\n",
       "4             5  180.8   10.8       58.4   12.9\n",
       "..          ...    ...    ...        ...    ...\n",
       "195         196   38.2    3.7       13.8    7.6\n",
       "196         197   94.2    4.9        8.1    9.7\n",
       "197         198  177.0    9.3        6.4   12.8\n",
       "198         199  283.6   42.0       66.2   25.5\n",
       "199         200  232.1    8.6        8.7   13.4\n",
       "\n",
       "[200 rows x 5 columns]>"
      ]
     },
     "execution_count": 7,
     "metadata": {},
     "output_type": "execute_result"
    }
   ],
   "source": [
    "df.describe"
   ]
  },
  {
   "cell_type": "code",
   "execution_count": 8,
   "id": "9104f32e",
   "metadata": {},
   "outputs": [
    {
     "data": {
      "text/plain": [
       "count    200.000000\n",
       "mean     147.042500\n",
       "std       85.854236\n",
       "min        0.700000\n",
       "25%       74.375000\n",
       "50%      149.750000\n",
       "75%      218.825000\n",
       "max      296.400000\n",
       "Name: TV, dtype: float64"
      ]
     },
     "execution_count": 8,
     "metadata": {},
     "output_type": "execute_result"
    }
   ],
   "source": [
    "df.TV.describe()"
   ]
  },
  {
   "cell_type": "code",
   "execution_count": 9,
   "id": "5f29dd1f",
   "metadata": {},
   "outputs": [
    {
     "data": {
      "text/plain": [
       "count    200.000000\n",
       "mean      23.264000\n",
       "std       14.846809\n",
       "min        0.000000\n",
       "25%        9.975000\n",
       "50%       22.900000\n",
       "75%       36.525000\n",
       "max       49.600000\n",
       "Name: Radio, dtype: float64"
      ]
     },
     "execution_count": 9,
     "metadata": {},
     "output_type": "execute_result"
    }
   ],
   "source": [
    "df.Radio.describe()"
   ]
  },
  {
   "cell_type": "code",
   "execution_count": 10,
   "id": "ce8ae2bd",
   "metadata": {},
   "outputs": [
    {
     "data": {
      "text/plain": [
       "count    200.000000\n",
       "mean      30.554000\n",
       "std       21.778621\n",
       "min        0.300000\n",
       "25%       12.750000\n",
       "50%       25.750000\n",
       "75%       45.100000\n",
       "max      114.000000\n",
       "Name: Newspaper, dtype: float64"
      ]
     },
     "execution_count": 10,
     "metadata": {},
     "output_type": "execute_result"
    }
   ],
   "source": [
    "df.Newspaper.describe()"
   ]
  },
  {
   "cell_type": "code",
   "execution_count": 11,
   "id": "6323ec43",
   "metadata": {},
   "outputs": [
    {
     "data": {
      "text/plain": [
       "count    200.000000\n",
       "mean      14.022500\n",
       "std        5.217457\n",
       "min        1.600000\n",
       "25%       10.375000\n",
       "50%       12.900000\n",
       "75%       17.400000\n",
       "max       27.000000\n",
       "Name: Sales, dtype: float64"
      ]
     },
     "execution_count": 11,
     "metadata": {},
     "output_type": "execute_result"
    }
   ],
   "source": [
    "df.Sales.describe()"
   ]
  },
  {
   "cell_type": "code",
   "execution_count": 12,
   "id": "c96c83ee",
   "metadata": {},
   "outputs": [
    {
     "data": {
      "text/html": [
       "<div>\n",
       "<style scoped>\n",
       "    .dataframe tbody tr th:only-of-type {\n",
       "        vertical-align: middle;\n",
       "    }\n",
       "\n",
       "    .dataframe tbody tr th {\n",
       "        vertical-align: top;\n",
       "    }\n",
       "\n",
       "    .dataframe thead th {\n",
       "        text-align: right;\n",
       "    }\n",
       "</style>\n",
       "<table border=\"1\" class=\"dataframe\">\n",
       "  <thead>\n",
       "    <tr style=\"text-align: right;\">\n",
       "      <th></th>\n",
       "      <th>Unnamed: 0</th>\n",
       "      <th>TV</th>\n",
       "      <th>Radio</th>\n",
       "      <th>Newspaper</th>\n",
       "      <th>Sales</th>\n",
       "    </tr>\n",
       "  </thead>\n",
       "  <tbody>\n",
       "    <tr>\n",
       "      <th>Unnamed: 0</th>\n",
       "      <td>1.000000</td>\n",
       "      <td>0.017715</td>\n",
       "      <td>-0.110680</td>\n",
       "      <td>-0.154944</td>\n",
       "      <td>-0.051616</td>\n",
       "    </tr>\n",
       "    <tr>\n",
       "      <th>TV</th>\n",
       "      <td>0.017715</td>\n",
       "      <td>1.000000</td>\n",
       "      <td>0.054809</td>\n",
       "      <td>0.056648</td>\n",
       "      <td>0.782224</td>\n",
       "    </tr>\n",
       "    <tr>\n",
       "      <th>Radio</th>\n",
       "      <td>-0.110680</td>\n",
       "      <td>0.054809</td>\n",
       "      <td>1.000000</td>\n",
       "      <td>0.354104</td>\n",
       "      <td>0.576223</td>\n",
       "    </tr>\n",
       "    <tr>\n",
       "      <th>Newspaper</th>\n",
       "      <td>-0.154944</td>\n",
       "      <td>0.056648</td>\n",
       "      <td>0.354104</td>\n",
       "      <td>1.000000</td>\n",
       "      <td>0.228299</td>\n",
       "    </tr>\n",
       "    <tr>\n",
       "      <th>Sales</th>\n",
       "      <td>-0.051616</td>\n",
       "      <td>0.782224</td>\n",
       "      <td>0.576223</td>\n",
       "      <td>0.228299</td>\n",
       "      <td>1.000000</td>\n",
       "    </tr>\n",
       "  </tbody>\n",
       "</table>\n",
       "</div>"
      ],
      "text/plain": [
       "            Unnamed: 0        TV     Radio  Newspaper     Sales\n",
       "Unnamed: 0    1.000000  0.017715 -0.110680  -0.154944 -0.051616\n",
       "TV            0.017715  1.000000  0.054809   0.056648  0.782224\n",
       "Radio        -0.110680  0.054809  1.000000   0.354104  0.576223\n",
       "Newspaper    -0.154944  0.056648  0.354104   1.000000  0.228299\n",
       "Sales        -0.051616  0.782224  0.576223   0.228299  1.000000"
      ]
     },
     "execution_count": 12,
     "metadata": {},
     "output_type": "execute_result"
    }
   ],
   "source": [
    "df.corr()"
   ]
  },
  {
   "cell_type": "code",
   "execution_count": 13,
   "id": "5035308d",
   "metadata": {},
   "outputs": [],
   "source": [
    "import seaborn as sns"
   ]
  },
  {
   "cell_type": "code",
   "execution_count": 14,
   "id": "0e3d141f",
   "metadata": {},
   "outputs": [
    {
     "data": {
      "image/png": "[encoded data removed]",
      "text/plain": [
       "<Figure size 500x500 with 2 Axes>"
      ]
     },
     "metadata": {},
     "output_type": "display_data"
    }
   ],
   "source": [
    "pl.figure(figsize=(5,5))\n",
    "sns.heatmap(df.corr())\n",
    "pl.show()"
   ]
  },
  {
   "cell_type": "code",
   "execution_count": 15,
   "id": "46beb5c3",
   "metadata": {},
   "outputs": [
    {
     "name": "stdout",
     "output_type": "stream",
     "text": [
      "<class 'pandas.core.frame.DataFrame'>\n",
      "RangeIndex: 200 entries, 0 to 199\n",
      "Data columns (total 5 columns):\n",
      " #   Column      Non-Null Count  Dtype  \n",
      "---  ------      --------------  -----  \n",
      " 0   Unnamed: 0  200 non-null    int64  \n",
      " 1   TV          200 non-null    float64\n",
      " 2   Radio       200 non-null    float64\n",
      " 3   Newspaper   200 non-null    float64\n",
      " 4   Sales       200 non-null    float64\n",
      "dtypes: float64(4), int64(1)\n",
      "memory usage: 7.9 KB\n"
     ]
    }
   ],
   "source": [
    "df.info()"
   ]
  },
  {
   "cell_type": "markdown",
   "id": "d38e6cdd",
   "metadata": {},
   "source": [
    "# Visualization"
   ]
  },
  {
   "cell_type": "code",
   "execution_count": 16,
   "id": "428a5545",
   "metadata": {},
   "outputs": [
    {
     "data": {
      "text/plain": [
       "Text(0, 0.5, 'Sales')"
      ]
     },
     "execution_count": 16,
     "metadata": {},
     "output_type": "execute_result"
    },
    {
     "data": {
      "image/png": "[encoded data removed]",
      "text/plain": [
       "<Figure size 640x480 with 1 Axes>"
      ]
     },
     "metadata": {},
     "output_type": "display_data"
    }
   ],
   "source": [
    "pl.scatter(df.TV,df.Sales)\n",
    "pl.title(\"TV VS Sales\")\n",
    "pl.xlabel(\"TV\")\n",
    "pl.ylabel(\"Sales\")"
   ]
  },
  {
   "cell_type": "code",
   "execution_count": 17,
   "id": "6a4693a6",
   "metadata": {},
   "outputs": [
    {
     "data": {
      "text/plain": [
       "Text(0, 0.5, 'Sales')"
      ]
     },
     "execution_count": 17,
     "metadata": {},
     "output_type": "execute_result"
    },
    {
     "data": {
      "image/png": "[encoded data removed]",
      "text/plain": [
       "<Figure size 640x480 with 1 Axes>"
      ]
     },
     "metadata": {},
     "output_type": "display_data"
    }
   ],
   "source": [
    "pl.scatter(df.Radio,df.Sales)\n",
    "pl.title(\"Radio VS Sales\")\n",
    "pl.xlabel(\"Radio\")\n",
    "pl.ylabel(\"Sales\")"
   ]
  },
  {
   "cell_type": "code",
   "execution_count": 18,
   "id": "236f18fd",
   "metadata": {},
   "outputs": [
    {
     "data": {
      "text/plain": [
       "Text(0, 0.5, 'Sales')"
      ]
     },
     "execution_count": 18,
     "metadata": {},
     "output_type": "execute_result"
    },
    {
     "data": {
      "image/png": "[encoded data removed]",
      "text/plain": [
       "<Figure size 640x480 with 1 Axes>"
      ]
     },
     "metadata": {},
     "output_type": "display_data"
    }
   ],
   "source": [
    "pl.scatter(df.Newspaper,df.Sales)\n",
    "pl.title(\"Newspaper VS Sales\")\n",
    "pl.xlabel(\"Newspaper\")\n",
    "pl.ylabel(\"Sales\")"
   ]
  },
  {
   "cell_type": "code",
   "execution_count": 19,
   "id": "c59a5365",
   "metadata": {},
   "outputs": [
    {
     "data": {
      "text/plain": [
       "Text(0, 0.5, 'Sales')"
      ]
     },
     "execution_count": 19,
     "metadata": {},
     "output_type": "execute_result"
    },
    {
     "data": {
      "image/png": "[encoded data removed]",
      "text/plain": [
       "<Figure size 640x480 with 1 Axes>"
      ]
     },
     "metadata": {},
     "output_type": "display_data"
    }
   ],
   "source": [
    "pl.bar(df.TV,df.Newspaper)\n",
    "pl.title(\"TV VS Sales\")\n",
    "pl.xlabel(\"TV\")\n",
    "pl.ylabel(\"Sales\")"
   ]
  },
  {
   "cell_type": "markdown",
   "id": "47cd07f8",
   "metadata": {},
   "source": [
    "# Machine Learning Model"
   ]
  },
  {
   "cell_type": "code",
   "execution_count": 20,
   "id": "7a865140",
   "metadata": {},
   "outputs": [],
   "source": [
    "from sklearn.linear_model import LinearRegression"
   ]
  },
  {
   "cell_type": "code",
   "execution_count": 21,
   "id": "48e7406e",
   "metadata": {},
   "outputs": [],
   "source": [
    "model= LinearRegression()"
   ]
  },
  {
   "cell_type": "code",
   "execution_count": 22,
   "id": "ab9020d7",
   "metadata": {},
   "outputs": [],
   "source": [
    "x=df.drop(\"Sales\",axis=1)\n",
    "y=df[\"Sales\"]"
   ]
  },
  {
   "cell_type": "code",
   "execution_count": 23,
   "id": "10fd35e1",
   "metadata": {},
   "outputs": [],
   "source": [
    "from sklearn.model_selection import train_test_split"
   ]
  },
  {
   "cell_type": "code",
   "execution_count": 24,
   "id": "095be412",
   "metadata": {},
   "outputs": [],
   "source": [
    "x_train,x_test,y_train,y_test= train_test_split(x,y,test_size=0.20,random_state=42)"
   ]
  },
  {
   "cell_type": "code",
   "execution_count": null,
   "id": "d5aef185",
   "metadata": {},
   "outputs": [],
   "source": []
  },
  {
   "cell_type": "code",
   "execution_count": 25,
   "id": "d9a64cd4",
   "metadata": {},
   "outputs": [
    {
     "data": {
      "text/html": [
       "<style>#sk-container-id-1 {color: black;background-color: white;}#sk-container-id-1 pre{padding: 0;}#sk-container-id-1 div.sk-toggleable {background-color: white;}#sk-container-id-1 label.sk-toggleable__label {cursor: pointer;display: block;width: 100%;margin-bottom: 0;padding: 0.3em;box-sizing: border-box;text-align: center;}#sk-container-id-1 label.sk-toggleable__label-arrow:before {content: \"▸\";float: left;margin-right: 0.25em;color: #696969;}#sk-container-id-1 label.sk-toggleable__label-arrow:hover:before {color: black;}#sk-container-id-1 div.sk-estimator:hover label.sk-toggleable__label-arrow:before {color: black;}#sk-container-id-1 div.sk-toggleable__content {max-height: 0;max-width: 0;overflow: hidden;text-align: left;background-color: #f0f8ff;}#sk-container-id-1 div.sk-toggleable__content pre {margin: 0.2em;color: black;border-radius: 0.25em;background-color: #f0f8ff;}#sk-container-id-1 input.sk-toggleable__control:checked~div.sk-toggleable__content {max-height: 200px;max-width: 100%;overflow: auto;}#sk-container-id-1 input.sk-toggleable__control:checked~label.sk-toggleable__label-arrow:before {content: \"▾\";}#sk-container-id-1 div.sk-estimator input.sk-toggleable__control:checked~label.sk-toggleable__label {background-color: #d4ebff;}#sk-container-id-1 div.sk-label input.sk-toggleable__control:checked~label.sk-toggleable__label {background-color: #d4ebff;}#sk-container-id-1 input.sk-hidden--visually {border: 0;clip: rect(1px 1px 1px 1px);clip: rect(1px, 1px, 1px, 1px);height: 1px;margin: -1px;overflow: hidden;padding: 0;position: absolute;width: 1px;}#sk-container-id-1 div.sk-estimator {font-family: monospace;background-color: #f0f8ff;border: 1px dotted black;border-radius: 0.25em;box-sizing: border-box;margin-bottom: 0.5em;}#sk-container-id-1 div.sk-estimator:hover {background-color: #d4ebff;}#sk-container-id-1 div.sk-parallel-item::after {content: \"\";width: 100%;border-bottom: 1px solid gray;flex-grow: 1;}#sk-container-id-1 div.sk-label:hover label.sk-toggleable__label {background-color: #d4ebff;}#sk-container-id-1 div.sk-serial::before {content: \"\";position: absolute;border-left: 1px solid gray;box-sizing: border-box;top: 0;bottom: 0;left: 50%;z-index: 0;}#sk-container-id-1 div.sk-serial {display: flex;flex-direction: column;align-items: center;background-color: white;padding-right: 0.2em;padding-left: 0.2em;position: relative;}#sk-container-id-1 div.sk-item {position: relative;z-index: 1;}#sk-container-id-1 div.sk-parallel {display: flex;align-items: stretch;justify-content: center;background-color: white;position: relative;}#sk-container-id-1 div.sk-item::before, #sk-container-id-1 div.sk-parallel-item::before {content: \"\";position: absolute;border-left: 1px solid gray;box-sizing: border-box;top: 0;bottom: 0;left: 50%;z-index: -1;}#sk-container-id-1 div.sk-parallel-item {display: flex;flex-direction: column;z-index: 1;position: relative;background-color: white;}#sk-container-id-1 div.sk-parallel-item:first-child::after {align-self: flex-end;width: 50%;}#sk-container-id-1 div.sk-parallel-item:last-child::after {align-self: flex-start;width: 50%;}#sk-container-id-1 div.sk-parallel-item:only-child::after {width: 0;}#sk-container-id-1 div.sk-dashed-wrapped {border: 1px dashed gray;margin: 0 0.4em 0.5em 0.4em;box-sizing: border-box;padding-bottom: 0.4em;background-color: white;}#sk-container-id-1 div.sk-label label {font-family: monospace;font-weight: bold;display: inline-block;line-height: 1.2em;}#sk-container-id-1 div.sk-label-container {text-align: center;}#sk-container-id-1 div.sk-container {/* jupyter's `normalize.less` sets `[hidden] { display: none; }` but bootstrap.min.css set `[hidden] { display: none !important; }` so we also need the `!important` here to be able to override the default hidden behavior on the sphinx rendered scikit-learn.org. See: https://github.com/scikit-learn/scikit-learn/issues/21755 */display: inline-block !important;position: relative;}#sk-container-id-1 div.sk-text-repr-fallback {display: none;}</style><div id=\"sk-container-id-1\" class=\"sk-top-container\"><div class=\"sk-text-repr-fallback\"><pre>LinearRegression()</pre><b>In a Jupyter environment, please rerun this cell to show the HTML representation or trust the notebook. <br />On GitHub, the HTML representation is unable to render, please try loading this page with nbviewer.org.</b></div><div class=\"sk-container\" hidden><div class=\"sk-item\"><div class=\"sk-estimator sk-toggleable\"><input class=\"sk-toggleable__control sk-hidden--visually\" id=\"sk-estimator-id-1\" type=\"checkbox\" checked><label for=\"sk-estimator-id-1\" class=\"sk-toggleable__label sk-toggleable__label-arrow\">LinearRegression</label><div class=\"sk-toggleable__content\"><pre>LinearRegression()</pre></div></div></div></div></div>"
      ],
      "text/plain": [
       "LinearRegression()"
      ]
     },
     "execution_count": 25,
     "metadata": {},
     "output_type": "execute_result"
    }
   ],
   "source": [
    "model.fit(x_train,y_train)"
   ]
  },
  {
   "cell_type": "code",
   "execution_count": 26,
   "id": "a213f0fd",
   "metadata": {},
   "outputs": [],
   "source": [
    "pred=model.predict(x_test)"
   ]
  },
  {
   "cell_type": "code",
   "execution_count": 27,
   "id": "5c72f756",
   "metadata": {},
   "outputs": [
    {
     "data": {
      "text/plain": [
       "array([16.41227699, 20.84319293, 21.51186915, 10.65309994, 22.12405753,\n",
       "       13.12383506, 21.03748883,  7.50385439, 13.64787029, 15.12040886,\n",
       "        9.02055551,  6.70666642, 14.40155146,  8.88609041,  9.74353333,\n",
       "       12.21551975,  8.71370868, 16.2941451 , 10.26802337, 18.80498245,\n",
       "       19.58864662, 13.22318303, 12.3647867 , 21.31473607,  7.79734749,\n",
       "        5.78189965, 20.74934811, 11.95476656,  9.199109  ,  8.52178704,\n",
       "       12.40431294,  9.94865202, 21.36880272, 12.25374832, 18.29943527,\n",
       "       20.13347356, 14.07464638, 20.88594679, 11.05214979,  4.55168744])"
      ]
     },
     "execution_count": 27,
     "metadata": {},
     "output_type": "execute_result"
    }
   ],
   "source": [
    "pred"
   ]
  },
  {
   "cell_type": "code",
   "execution_count": 28,
   "id": "68c6a538",
   "metadata": {},
   "outputs": [
    {
     "data": {
      "text/plain": [
       "95     16.9\n",
       "15     22.4\n",
       "30     21.4\n",
       "158     7.3\n",
       "128    24.7\n",
       "115    12.6\n",
       "69     22.3\n",
       "170     8.4\n",
       "174    11.5\n",
       "45     14.9\n",
       "66      9.5\n",
       "182     8.7\n",
       "165    11.9\n",
       "78      5.3\n",
       "186    10.3\n",
       "177    11.7\n",
       "56      5.5\n",
       "152    16.6\n",
       "82     11.3\n",
       "68     18.9\n",
       "124    19.7\n",
       "16     12.5\n",
       "148    10.9\n",
       "93     22.2\n",
       "65      9.3\n",
       "60      8.1\n",
       "84     21.7\n",
       "67     13.4\n",
       "125    10.6\n",
       "132     5.7\n",
       "9      10.6\n",
       "18     11.3\n",
       "55     23.7\n",
       "75      8.7\n",
       "150    16.1\n",
       "104    20.7\n",
       "135    11.6\n",
       "137    20.8\n",
       "164    11.9\n",
       "76      6.9\n",
       "Name: Sales, dtype: float64"
      ]
     },
     "execution_count": 28,
     "metadata": {},
     "output_type": "execute_result"
    }
   ],
   "source": [
    "y_test"
   ]
  },
  {
   "cell_type": "code",
   "execution_count": 29,
   "id": "cd43cb75",
   "metadata": {},
   "outputs": [
    {
     "data": {
      "text/plain": [
       "0.8957553000540606"
      ]
     },
     "execution_count": 29,
     "metadata": {},
     "output_type": "execute_result"
    }
   ],
   "source": [
    "model.score(x_train,y_train)"
   ]
  },
  {
   "cell_type": "code",
   "execution_count": 30,
   "id": "6a3b743c",
   "metadata": {},
   "outputs": [
    {
     "data": {
      "text/plain": [
       "0.898648915141708"
      ]
     },
     "execution_count": 30,
     "metadata": {},
     "output_type": "execute_result"
    }
   ],
   "source": [
    "model.score(x_test,y_test)"
   ]
  },
  {
   "cell_type": "code",
   "execution_count": 34,
   "id": "c99e0c84",
   "metadata": {},
   "outputs": [
    {
     "data": {
      "text/plain": [
       "3.1990044685889067"
      ]
     },
     "execution_count": 34,
     "metadata": {},
     "output_type": "execute_result"
    }
   ],
   "source": [
    "from sklearn.metrics import mean_squared_error\n",
    "mean_squared_error(y_test,pred)"
   ]
  },
  {
   "cell_type": "markdown",
   "id": "2cfa3b6c",
   "metadata": {},
   "source": [
    "# Scalling\n"
   ]
  },
  {
   "cell_type": "code",
   "execution_count": 35,
   "id": "ec863b81",
   "metadata": {},
   "outputs": [],
   "source": [
    "from sklearn.preprocessing import StandardScaler"
   ]
  },
  {
   "cell_type": "code",
   "execution_count": 36,
   "id": "278493b2",
   "metadata": {},
   "outputs": [],
   "source": [
    "scaler = StandardScaler()"
   ]
  },
  {
   "cell_type": "code",
   "execution_count": 38,
   "id": "5bf02be9",
   "metadata": {},
   "outputs": [],
   "source": [
    "x_train= scaler.fit_transform(x_train,y_train)"
   ]
  },
  {
   "cell_type": "code",
   "execution_count": 39,
   "id": "ebdf8972",
   "metadata": {},
   "outputs": [
    {
     "data": {
      "text/plain": [
       "array([[-3.39167429e-01, -4.04248386e-01, -1.02823707e+00,\n",
       "        -3.37675384e-01],\n",
       "       [ 1.65444436e+00,  3.20607716e-01, -9.19827737e-01,\n",
       "        -1.16143931e+00],\n",
       "       [-1.03186305e+00, -1.27051084e+00,  2.59123702e-01,\n",
       "         2.54250789e-01],\n",
       "       [-1.26839326e+00, -1.04235941e+00, -6.96233499e-01,\n",
       "        -5.74445854e-01],\n",
       "       [ 3.87318222e-01,  8.79103401e-01, -1.38734296e+00,\n",
       "        -7.07629243e-01],\n",
       "       [ 1.62065433e+00, -1.32873699e+00, -1.29926038e+00,\n",
       "        -7.96418169e-01],\n",
       "       [-1.18391819e+00, -9.43731452e-01, -4.65863678e-01,\n",
       "         5.35415722e-01],\n",
       "       [-1.35286834e+00, -3.23140256e-02,  6.94073782e-02,\n",
       "        -5.34984109e-01],\n",
       "       [ 7.42113539e-01, -5.39713297e-01, -1.16374872e+00,\n",
       "         2.19721762e-01],\n",
       "       [-2.20902323e-01, -8.75998996e-01,  3.13328366e-01,\n",
       "        -6.87898371e-01],\n",
       "       [ 2.52158101e-01, -8.53421511e-01,  1.62101588e+00,\n",
       "         2.24654481e-01],\n",
       "       [ 1.24896399e+00,  2.18414888e-01, -1.06889056e+00,\n",
       "        -8.45745350e-01],\n",
       "       [-1.58939855e+00, -1.67928215e+00,  1.76330312e+00,\n",
       "         2.22240532e+00],\n",
       "       [ 4.54898282e-01, -1.68997675e+00,  1.08574483e+00,\n",
       "         1.01882210e+00],\n",
       "       [ 3.02843146e-01, -8.74810708e-01, -1.49575229e+00,\n",
       "        -7.47090988e-01],\n",
       "       [-4.40537519e-01, -2.45017701e-01, -1.16374872e+00,\n",
       "         6.68075010e-02],\n",
       "       [ 6.91428494e-01, -9.10459368e-01, -3.98107848e-01,\n",
       "        -8.40812632e-01],\n",
       "       [-1.81621413e-02,  1.65980907e+00,  1.31611465e+00,\n",
       "         1.04841841e+00],\n",
       "       [ 1.23206898e+00, -1.54975868e+00, -1.88064775e-01,\n",
       "        -6.38571189e-01],\n",
       "       [-5.19521715e-02,  5.65395186e-01, -1.31281155e+00,\n",
       "        -1.18610290e+00],\n",
       "       [ 1.18138393e+00,  1.59564148e+00, -8.31745159e-01,\n",
       "        -1.16143931e+00],\n",
       "       [-3.50571564e-02,  4.14482522e-01, -1.27084528e-01,\n",
       "        -3.91935284e-01],\n",
       "       [-1.15012815e+00, -4.41085335e-01, -3.71005516e-01,\n",
       "         4.26895923e-01],\n",
       "       [-1.47113344e+00, -1.49985056e+00,  8.28272672e-01,\n",
       "         1.77352797e+00],\n",
       "       [-1.08254809e+00,  1.67169196e+00, -1.27215805e+00,\n",
       "        -1.05785223e+00],\n",
       "       [ 3.36633176e-01, -1.55213526e+00, -4.65863678e-01,\n",
       "        -3.77137129e-01],\n",
       "       [-9.64282988e-01,  1.70615233e+00,  3.26879532e-01,\n",
       "        -1.38834434e+00],\n",
       "       [ 1.51928424e+00, -1.56045328e+00, -7.30111414e-01,\n",
       "        -3.22877230e-01],\n",
       "       [-1.53322262e-01, -1.86791555e-01, -1.21795339e+00,\n",
       "        -1.01839048e+00],\n",
       "       [ 6.23848434e-01, -1.47846136e+00,  1.09252041e+00,\n",
       "        -1.01839048e+00],\n",
       "       [-8.12227852e-01, -5.89621422e-01, -8.99500988e-01,\n",
       "        -1.29955542e+00],\n",
       "       [ 4.71793297e-01, -8.29655737e-01, -1.54995695e+00,\n",
       "        -1.02332320e+00],\n",
       "       [ 1.06311883e+00,  4.56072627e-01, -3.23576435e-01,\n",
       "        -2.14357432e-01],\n",
       "       [-9.81178003e-01,  3.20607716e-01,  7.13087762e-01,\n",
       "         4.31828641e-01],\n",
       "       [ 3.19738161e-01, -2.88984383e-01,  9.50233166e-01,\n",
       "         2.42957948e+00],\n",
       "       [ 2.35263086e-01,  7.07989829e-01, -1.54186860e-01,\n",
       "        -9.49332431e-01],\n",
       "       [-1.23460323e+00, -8.45987280e-02,  4.35288859e-01,\n",
       "        -8.55610786e-01],\n",
       "       [ 6.74533479e-01,  4.14482522e-01,  1.42452397e+00,\n",
       "        -1.39327706e+00],\n",
       "       [ 1.56278890e-02,  8.60090782e-01, -1.25860689e+00,\n",
       "         9.79360352e-01],\n",
       "       [ 2.01473055e-01,  1.08943050e+00,  1.02476458e+00,\n",
       "        -3.32742666e-01],\n",
       "       [-1.64008359e+00, -1.57827761e+00,  1.56003563e+00,\n",
       "         1.94124038e+00],\n",
       "       [-3.72957459e-01, -3.50775395e-01,  3.81084195e-01,\n",
       "        -7.76687297e-01],\n",
       "       [-8.96702928e-01, -7.16768312e-01, -8.79174239e-01,\n",
       "         2.83847098e-01],\n",
       "       [ 1.48549421e+00,  4.88156421e-01,  3.94635361e-01,\n",
       "        -5.79378572e-01],\n",
       "       [ 1.55307427e+00, -8.85505306e-01, -8.18193993e-01,\n",
       "        -1.18117018e+00],\n",
       "       [-2.37797338e-01,  5.13110484e-01, -3.03249686e-01,\n",
       "         1.76366253e+00],\n",
       "       [ 1.04622381e+00, -7.64299859e-01,  8.75701753e-01,\n",
       "         9.54696761e-01],\n",
       "       [-1.06565308e+00,  1.38887925e+00,  1.41774839e+00,\n",
       "        -1.23049736e+00],\n",
       "       [ 1.53617925e+00, -1.31328923e+00,  1.23480765e+00,\n",
       "        -1.19103562e+00],\n",
       "       [-6.43277701e-01,  1.32233508e+00,  1.34321698e+00,\n",
       "         1.22106354e+00],\n",
       "       [-1.30218329e+00, -1.62580916e+00, -4.72639260e-01,\n",
       "         9.69494916e-01],\n",
       "       [ 7.08323509e-01,  5.19051927e-01,  8.48599421e-01,\n",
       "         2.25200163e+00],\n",
       "       [ 3.25229041e-02,  1.73942441e+00,  9.09579668e-01,\n",
       "         3.49997931e+00],\n",
       "       [-1.11633812e+00,  1.37343150e+00, -1.94840358e-01,\n",
       "        -1.46233511e+00],\n",
       "       [-1.48802846e+00,  7.68592552e-01,  7.61829612e-02,\n",
       "        -1.27982454e+00],\n",
       "       [ 1.60375931e+00, -3.79509701e-03,  8.62150587e-01,\n",
       "        -1.18117018e+00],\n",
       "       [ 1.01243378e+00, -2.17687061e-01, -3.03249686e-01,\n",
       "         2.29587199e-01],\n",
       "       [-1.57250353e+00, -1.09939727e+00,  6.72434264e-01,\n",
       "        -3.17944512e-01],\n",
       "       [-1.21770822e+00,  1.07041788e+00, -4.18434597e-01,\n",
       "        -3.47540821e-01],\n",
       "       [ 3.53528192e-01, -1.03611347e-01,  2.65899285e-01,\n",
       "         8.01782500e-01],\n",
       "       [-1.60629356e+00,  3.65762686e-01, -8.18193993e-01,\n",
       "         1.40357411e+00],\n",
       "       [-1.13323314e+00, -6.27646660e-01, -1.44832321e+00,\n",
       "         2.68216547e-03],\n",
       "       [ 7.25218524e-01,  8.37513296e-01,  6.99536596e-01,\n",
       "         3.92366896e-01],\n",
       "       [ 7.75903570e-01, -1.15494234e-01, -1.42122088e+00,\n",
       "        -1.03318864e+00],\n",
       "       [ 1.67683025e-01,  1.25222605e+00,  2.72674868e-01,\n",
       "        -1.20583377e+00],\n",
       "       [ 7.59008555e-01, -6.39529547e-01, -5.47170673e-01,\n",
       "         4.41694078e-01],\n",
       "       [-1.50492347e+00, -9.97204443e-01, -1.15697314e+00,\n",
       "        -2.83415485e-01],\n",
       "       [-6.26382686e-01,  1.06091157e+00, -4.99741592e-01,\n",
       "        -1.30501224e-01],\n",
       "       [ 2.18368071e-01,  3.05159963e-01, -5.06517175e-01,\n",
       "        -1.35874803e+00],\n",
       "       [ 7.92798585e-01,  1.07041788e+00, -1.05533940e+00,\n",
       "        -1.04798679e+00],\n",
       "       [ 1.13069889e+00, -1.56995959e+00,  9.97662247e-01,\n",
       "        -4.11666156e-01],\n",
       "       [-1.67387362e+00,  9.51589011e-01,  1.01121341e+00,\n",
       "         1.93630767e+00],\n",
       "       [ 1.67133937e+00,  1.58732346e+00,  1.29578790e+00,\n",
       "         1.78832612e+00],\n",
       "       [ 9.11063691e-01,  2.52875260e-01,  1.13994949e+00,\n",
       "         3.82501460e-01],\n",
       "       [-4.91222565e-01,  5.83219517e-01,  5.23371438e-01,\n",
       "         4.31828641e-01],\n",
       "       [ 4.04213237e-01, -3.19879889e-01,  7.94394757e-01,\n",
       "        -8.65476223e-01],\n",
       "       [-5.92592656e-01, -2.24816794e-01,  1.34999256e+00,\n",
       "        -5.15777338e-02],\n",
       "       [-9.30492958e-01, -1.48440281e+00,  1.91367872e-01,\n",
       "         6.58733675e-01],\n",
       "       [ 1.08001384e+00,  1.60188742e-01,  9.43457583e-01,\n",
       "        -1.11211213e+00],\n",
       "       [-1.20081320e+00,  1.17379900e+00,  2.86226034e-01,\n",
       "        -3.47540821e-01],\n",
       "       [-9.98073019e-01,  6.23621332e-01, -3.90019495e-02,\n",
       "         8.16056553e-02],\n",
       "       [ 1.50788010e-01, -1.62699745e+00, -1.52285462e+00,\n",
       "        -2.14357432e-01],\n",
       "       [ 9.44853721e-01, -1.73394343e+00, -7.63989329e-01,\n",
       "        -1.19596834e+00],\n",
       "       [ 9.61748736e-01, -6.66860187e-01,  1.39742164e+00,\n",
       "         1.01388938e+00],\n",
       "       [-1.25149825e+00,  1.34134770e+00, -1.31281155e+00,\n",
       "        -5.15253237e-01],\n",
       "       [-1.28528828e+00,  9.30199814e-01, -4.04883431e-01,\n",
       "        -1.84761123e-01],\n",
       "       [ 1.43480916e+00,  1.23321343e+00, -1.06757779e-01,\n",
       "         2.68216547e-03],\n",
       "       [ 8.09693600e-01,  1.10725483e+00,  1.77007871e+00,\n",
       "         7.08060856e-01],\n",
       "       [-3.05377398e-01,  1.06685301e+00, -1.27215805e+00,\n",
       "         3.43039715e-01],\n",
       "       [-1.01496803e+00,  9.26634948e-01,  1.00443783e+00,\n",
       "         1.01336528e-01],\n",
       "       [ 1.16448892e+00,  7.76910573e-01,  4.90806292e-02,\n",
       "         1.36411236e+00],\n",
       "       [-8.79807913e-01,  1.06804130e+00,  1.26190998e+00,\n",
       "        -5.64580418e-01],\n",
       "       [-8.57422018e-02, -5.06441213e-01, -6.01375337e-01,\n",
       "        -9.39466994e-01],\n",
       "       [ 9.27958706e-01,  4.48942894e-01, -1.20308945e-01,\n",
       "        -1.00852505e+00],\n",
       "       [-9.47387973e-01,  6.75906034e-01, -9.80807984e-01,\n",
       "        -1.74895687e-01],\n",
       "       [ 6.57638464e-01, -1.27169913e+00,  2.04919038e-01,\n",
       "        -4.65926055e-01],\n",
       "       [-1.62318858e+00,  1.75940994e-02,  1.24835882e+00,\n",
       "         1.40850683e+00],\n",
       "       [ 1.00102965e-01, -1.44013163e-01,  1.59391355e+00,\n",
       "         1.43317042e+00],\n",
       "       [-7.78437822e-01,  3.87151882e-01,  1.58036238e+00,\n",
       "         1.41837226e+00],\n",
       "       [ 5.73163388e-01,  8.29195276e-01,  7.19863345e-01,\n",
       "         7.47522601e-01],\n",
       "       [ 1.36722910e+00,  7.81968227e-02, -1.37379180e+00,\n",
       "        -1.06771767e+00],\n",
       "       [ 1.33343907e+00,  1.50533154e+00, -1.39411855e+00,\n",
       "        -3.08079076e-01],\n",
       "       [ 1.45170417e+00,  6.53328549e-01,  1.50583097e+00,\n",
       "        -5.10320518e-01],\n",
       "       [-8.46017882e-01, -9.87698133e-01, -7.57213746e-01,\n",
       "         3.38106997e-01],\n",
       "       [-3.22272414e-01, -8.74810708e-01,  2.59123702e-01,\n",
       "        -3.77137129e-01],\n",
       "       [-1.09944311e+00, -6.45470990e-01, -1.45509879e+00,\n",
       "        -1.11211213e+00],\n",
       "       [-1.55560852e+00, -3.54340261e-01, -2.21942690e-01,\n",
       "        -9.04937968e-01],\n",
       "       [ 1.84578040e-01,  9.00492597e-01, -9.94359150e-01,\n",
       "         1.30985247e+00],\n",
       "       [-1.36427247e-01, -1.44281270e+00, -1.44832321e+00,\n",
       "         1.50663709e-01],\n",
       "       [-2.71587368e-01, -9.69873803e-01,  1.46517747e+00,\n",
       "         2.78914380e-01],\n",
       "       [ 1.29964904e+00,  1.16904584e+00,  4.96269106e-01,\n",
       "        -4.75791492e-01],\n",
       "       [ 1.38412411e+00,  8.13747523e-01, -1.18407547e+00,\n",
       "        -1.25568505e-01],\n",
       "       [-1.70217277e-01, -4.77922285e-01,  1.68877171e+00,\n",
       "         1.05828384e+00],\n",
       "       [-1.53871350e+00, -1.68047044e+00, -1.40766971e+00,\n",
       "        -1.42780609e+00],\n",
       "       [-1.45423843e+00, -6.24081794e-01, -1.03501265e+00,\n",
       "        -1.12197756e+00],\n",
       "       [-6.77067731e-01,  7.21061005e-01,  4.48840025e-01,\n",
       "        -1.01839048e+00],\n",
       "       [ 1.21517396e+00,  1.72071629e-01, -1.33860111e-01,\n",
       "         8.60975117e-01],\n",
       "       [ 5.39373358e-01,  1.36867834e+00, -1.35346505e+00,\n",
       "         6.43935520e-01],\n",
       "       [-1.38665837e+00,  1.56118111e+00,  1.13317391e+00,\n",
       "         1.27532344e+00],\n",
       "       [-4.57432535e-01, -1.46420190e+00,  6.85985430e-01,\n",
       "        -5.25118673e-01],\n",
       "       [ 1.28275402e+00,  1.50770812e+00,  1.76330312e+00,\n",
       "         5.84742903e-01],\n",
       "       [ 5.90058403e-01, -1.34418474e+00,  1.06541808e+00,\n",
       "         1.75872981e+00],\n",
       "       [ 1.14759390e+00,  6.74717746e-01, -1.19762664e+00,\n",
       "        -5.20185955e-01],\n",
       "       [ 1.41791414e+00,  1.63485501e+00,  1.36354373e+00,\n",
       "         2.06455834e+00],\n",
       "       [-6.09487671e-01, -5.62290782e-01,  4.55615608e-01,\n",
       "        -1.06278495e+00],\n",
       "       [-7.61542807e-01,  1.33897112e+00,  4.01410944e-01,\n",
       "        -6.92831089e-01],\n",
       "       [ 1.33892995e-01, -7.08450291e-01, -1.52963021e+00,\n",
       "        -3.32742666e-01],\n",
       "       [-8.29122867e-01,  5.91537537e-01, -1.33991388e+00,\n",
       "         2.29587199e-01],\n",
       "       [ 1.63754934e+00, -6.63295321e-01, -1.21795339e+00,\n",
       "        -1.07758310e+00],\n",
       "       [-6.93962746e-01,  7.22249293e-01,  1.81073220e+00,\n",
       "         3.82501460e-01],\n",
       "       [-8.62912898e-01,  9.17128639e-01, -4.79414843e-01,\n",
       "         9.84293070e-01],\n",
       "       [-1.87112293e-01, -7.33404353e-01,  1.77816706e-01,\n",
       "         2.14348183e+00],\n",
       "       [-1.31907831e+00,  1.03833409e+00, -1.20440222e+00,\n",
       "        -3.17944512e-01],\n",
       "       [-7.10857761e-01, -1.64214070e-01, -2.49045022e-01,\n",
       "        -6.58302062e-01],\n",
       "       [ 1.02932880e+00,  2.67134725e-01, -3.23576435e-01,\n",
       "         3.72111923e-02],\n",
       "       [ 1.56996928e+00, -1.57827761e+00, -1.27215805e+00,\n",
       "         8.16056553e-02],\n",
       "       [ 5.05583328e-01, -1.07444321e+00, -7.36886997e-01,\n",
       "         6.48868238e-01],\n",
       "       [-1.04875806e+00, -8.95011616e-01,  1.79718104e+00,\n",
       "         7.77118909e-01],\n",
       "       [ 9.78643751e-01, -2.60680832e-03, -1.46187438e+00,\n",
       "        -2.78482767e-01],\n",
       "       [ 1.58686430e+00,  1.99402269e-01,  1.29578790e+00,\n",
       "        -1.29955542e+00],\n",
       "       [-1.65697861e+00, -1.25387480e+00,  1.11284716e+00,\n",
       "         7.47522601e-01],\n",
       "       [-7.95332837e-01,  7.88793460e-01,  1.27546115e+00,\n",
       "         4.76223104e-01],\n",
       "       [ 8.43483630e-01, -1.25149822e+00,  1.98143455e-01,\n",
       "        -4.60993337e-01],\n",
       "       [ 5.22478343e-01, -1.77434525e+00,  1.13317391e+00,\n",
       "        -1.04798679e+00],\n",
       "       [ 8.77273660e-01, -3.44833951e-01, -9.80807984e-01,\n",
       "         9.25100453e-01],\n",
       "       [ 6.63129344e-02,  4.50131183e-01, -3.84556682e-01,\n",
       "        -5.94176726e-01],\n",
       "       [-1.26712613e-03, -1.76096957e-01,  1.27546115e+00,\n",
       "         7.86984346e-01],\n",
       "       [ 2.85948131e-01, -1.28565410e-01, -5.81048588e-01,\n",
       "        -2.14357432e-01],\n",
       "       [-2.04007308e-01, -4.67227687e-01,  1.20092974e+00,\n",
       "         1.64034458e+00],\n",
       "       [-4.23642504e-01,  7.53144799e-01,  1.16836459e-01,\n",
       "        -8.30947196e-01],\n",
       "       [ 3.70423207e-01, -1.55926499e+00, -7.96554474e-02,\n",
       "         1.00895666e+00],\n",
       "       [ 1.68823439e+00,  9.75354785e-01, -9.67256818e-01,\n",
       "        -1.04798679e+00],\n",
       "       [-1.33597332e+00,  8.12559234e-01,  3.26879532e-01,\n",
       "         1.15693820e+00],\n",
       "       [ 1.50238922e+00,  1.61584239e+00, -6.08150920e-01,\n",
       "        -1.29462270e+00],\n",
       "       [-4.74327550e-01, -4.77922285e-01, -5.81048588e-01,\n",
       "         8.65383734e-02],\n",
       "       [ 1.16997980e-01, -1.48559110e+00, -8.04642827e-01,\n",
       "        -1.21159889e-02],\n",
       "       [-1.43734341e+00,  6.42633951e-01,  6.79209847e-01,\n",
       "         7.91917064e-01],\n",
       "       [-1.19532232e-01,  8.04241213e-01,  7.19863345e-01,\n",
       "         1.43317042e+00],\n",
       "       [ 1.35033408e+00,  1.85142805e-01, -8.72398657e-01,\n",
       "        -6.08974881e-01],\n",
       "       [ 4.94179192e-02,  1.54692165e+00, -8.65623074e-01,\n",
       "        -4.21531592e-01]])"
      ]
     },
     "execution_count": 39,
     "metadata": {},
     "output_type": "execute_result"
    }
   ],
   "source": [
    "x_train"
   ]
  },
  {
   "cell_type": "code",
   "execution_count": 43,
   "id": "2582d920",
   "metadata": {},
   "outputs": [],
   "source": [
    "x_test = scaler.transform(x_test)"
   ]
  },
  {
   "cell_type": "code",
   "execution_count": 44,
   "id": "8884daee",
   "metadata": {},
   "outputs": [
    {
     "data": {
      "text/plain": [
       "array([[-0.06884719,  0.15781217,  0.59112727,  1.13227461],\n",
       "       [-1.4204484 ,  0.53925283,  1.68199613,  1.13227461],\n",
       "       [-1.16702317,  1.69783431,  0.36753303,  0.65380096],\n",
       "       [ 0.99553877, -1.64363349,  0.95023317,  0.75245532],\n",
       "       [ 0.48868831,  0.83513672,  1.77007871, -1.31928629],\n",
       "       [ 0.26905312, -0.89025846,  0.82149709,  1.12240918],\n",
       "       [-0.50811758,  0.79354661,  1.42452397, -0.13543394],\n",
       "       [ 1.19827895, -1.18851892, -0.76398933, -0.56951314],\n",
       "       [ 1.26585901,  0.86009078, -1.31958713, -0.8309472 ],\n",
       "       [-0.91359794,  0.29803023, -0.02545078,  0.07667294],\n",
       "       [-0.55880263, -1.40835233,  0.11683646, -1.36861347],\n",
       "       [ 1.40101913, -1.11484502, -1.16374872, -0.01211599],\n",
       "       [ 1.11380387,  1.00387371, -1.31958713,  2.70581169],\n",
       "       [-0.35606244, -1.71849568,  0.47594236, -1.01345777],\n",
       "       [ 1.46859919, -0.12500054, -1.40766971, -0.16503025],\n",
       "       [ 1.31654405,  0.23980408, -1.02146148,  0.25918351],\n",
       "       [-0.72775278, -1.69591819,  0.35398186,  0.56501203],\n",
       "       [ 0.89416868,  0.56539519,  0.02875388, -0.7766873 ],\n",
       "       [-0.28848238, -0.88788188, -0.17451361,  0.12600012],\n",
       "       [-0.5250126 ,  1.03833409,  0.31332837, -0.93453428],\n",
       "       [ 0.42110825,  0.94445928,  0.63855635,  2.18294357],\n",
       "       [-1.40355338, -0.97700354,  0.92990642,  4.14616538],\n",
       "       [ 0.82658862, -1.33111357,  1.18060299, -0.89013981],\n",
       "       [-0.10263722,  1.19875306,  0.92313083,  2.08922193],\n",
       "       [-0.57569764, -0.96274407, -0.91982774, -1.43273881],\n",
       "       [-0.66017272, -1.14692882, -1.4144453 , -0.42153159],\n",
       "       [-0.25469235,  0.75433309,  1.36354373,  0.19012545],\n",
       "       [-0.54190761, -0.12737712, -0.56749742, -0.97399602],\n",
       "       [ 0.43800327, -0.74647553, -0.75043816, -0.19955928],\n",
       "       [ 0.55626837, -1.68284702,  0.29300162, -1.37354619],\n",
       "       [-1.52181849,  0.59153754, -1.3737918 , -0.43139703],\n",
       "       [-1.36976335, -0.96036749, -0.16096244, -0.57444585],\n",
       "       [-0.74464779,  0.58084294,  1.79718104,  1.4824976 ],\n",
       "       [-0.40674749, -1.58184248,  1.41097281,  2.93271673],\n",
       "       [ 0.86037865,  1.55286309, -0.60815092,  0.34797243],\n",
       "       [ 0.08320795,  1.04784039,  0.77406801, -1.21569921],\n",
       "       [ 0.60695342, -1.20871983,  1.63456705, -1.05785223],\n",
       "       [ 0.64074345,  1.46968288,  0.40818653,  1.46769945],\n",
       "       [ 1.09690886, -0.38998892, -0.55394626, -1.21076649],\n",
       "       [-0.38985247, -1.45588388, -1.44154763, -0.45606062]])"
      ]
     },
     "execution_count": 44,
     "metadata": {},
     "output_type": "execute_result"
    }
   ],
   "source": [
    "x_test"
   ]
  },
  {
   "cell_type": "code",
   "execution_count": 45,
   "id": "df0d49da",
   "metadata": {},
   "outputs": [],
   "source": [
    "model = LinearRegression()"
   ]
  },
  {
   "cell_type": "code",
   "execution_count": 46,
   "id": "5779bd37",
   "metadata": {},
   "outputs": [
    {
     "data": {
      "text/html": [
       "<style>#sk-container-id-2 {color: black;background-color: white;}#sk-container-id-2 pre{padding: 0;}#sk-container-id-2 div.sk-toggleable {background-color: white;}#sk-container-id-2 label.sk-toggleable__label {cursor: pointer;display: block;width: 100%;margin-bottom: 0;padding: 0.3em;box-sizing: border-box;text-align: center;}#sk-container-id-2 label.sk-toggleable__label-arrow:before {content: \"▸\";float: left;margin-right: 0.25em;color: #696969;}#sk-container-id-2 label.sk-toggleable__label-arrow:hover:before {color: black;}#sk-container-id-2 div.sk-estimator:hover label.sk-toggleable__label-arrow:before {color: black;}#sk-container-id-2 div.sk-toggleable__content {max-height: 0;max-width: 0;overflow: hidden;text-align: left;background-color: #f0f8ff;}#sk-container-id-2 div.sk-toggleable__content pre {margin: 0.2em;color: black;border-radius: 0.25em;background-color: #f0f8ff;}#sk-container-id-2 input.sk-toggleable__control:checked~div.sk-toggleable__content {max-height: 200px;max-width: 100%;overflow: auto;}#sk-container-id-2 input.sk-toggleable__control:checked~label.sk-toggleable__label-arrow:before {content: \"▾\";}#sk-container-id-2 div.sk-estimator input.sk-toggleable__control:checked~label.sk-toggleable__label {background-color: #d4ebff;}#sk-container-id-2 div.sk-label input.sk-toggleable__control:checked~label.sk-toggleable__label {background-color: #d4ebff;}#sk-container-id-2 input.sk-hidden--visually {border: 0;clip: rect(1px 1px 1px 1px);clip: rect(1px, 1px, 1px, 1px);height: 1px;margin: -1px;overflow: hidden;padding: 0;position: absolute;width: 1px;}#sk-container-id-2 div.sk-estimator {font-family: monospace;background-color: #f0f8ff;border: 1px dotted black;border-radius: 0.25em;box-sizing: border-box;margin-bottom: 0.5em;}#sk-container-id-2 div.sk-estimator:hover {background-color: #d4ebff;}#sk-container-id-2 div.sk-parallel-item::after {content: \"\";width: 100%;border-bottom: 1px solid gray;flex-grow: 1;}#sk-container-id-2 div.sk-label:hover label.sk-toggleable__label {background-color: #d4ebff;}#sk-container-id-2 div.sk-serial::before {content: \"\";position: absolute;border-left: 1px solid gray;box-sizing: border-box;top: 0;bottom: 0;left: 50%;z-index: 0;}#sk-container-id-2 div.sk-serial {display: flex;flex-direction: column;align-items: center;background-color: white;padding-right: 0.2em;padding-left: 0.2em;position: relative;}#sk-container-id-2 div.sk-item {position: relative;z-index: 1;}#sk-container-id-2 div.sk-parallel {display: flex;align-items: stretch;justify-content: center;background-color: white;position: relative;}#sk-container-id-2 div.sk-item::before, #sk-container-id-2 div.sk-parallel-item::before {content: \"\";position: absolute;border-left: 1px solid gray;box-sizing: border-box;top: 0;bottom: 0;left: 50%;z-index: -1;}#sk-container-id-2 div.sk-parallel-item {display: flex;flex-direction: column;z-index: 1;position: relative;background-color: white;}#sk-container-id-2 div.sk-parallel-item:first-child::after {align-self: flex-end;width: 50%;}#sk-container-id-2 div.sk-parallel-item:last-child::after {align-self: flex-start;width: 50%;}#sk-container-id-2 div.sk-parallel-item:only-child::after {width: 0;}#sk-container-id-2 div.sk-dashed-wrapped {border: 1px dashed gray;margin: 0 0.4em 0.5em 0.4em;box-sizing: border-box;padding-bottom: 0.4em;background-color: white;}#sk-container-id-2 div.sk-label label {font-family: monospace;font-weight: bold;display: inline-block;line-height: 1.2em;}#sk-container-id-2 div.sk-label-container {text-align: center;}#sk-container-id-2 div.sk-container {/* jupyter's `normalize.less` sets `[hidden] { display: none; }` but bootstrap.min.css set `[hidden] { display: none !important; }` so we also need the `!important` here to be able to override the default hidden behavior on the sphinx rendered scikit-learn.org. See: https://github.com/scikit-learn/scikit-learn/issues/21755 */display: inline-block !important;position: relative;}#sk-container-id-2 div.sk-text-repr-fallback {display: none;}</style><div id=\"sk-container-id-2\" class=\"sk-top-container\"><div class=\"sk-text-repr-fallback\"><pre>LinearRegression()</pre><b>In a Jupyter environment, please rerun this cell to show the HTML representation or trust the notebook. <br />On GitHub, the HTML representation is unable to render, please try loading this page with nbviewer.org.</b></div><div class=\"sk-container\" hidden><div class=\"sk-item\"><div class=\"sk-estimator sk-toggleable\"><input class=\"sk-toggleable__control sk-hidden--visually\" id=\"sk-estimator-id-2\" type=\"checkbox\" checked><label for=\"sk-estimator-id-2\" class=\"sk-toggleable__label sk-toggleable__label-arrow\">LinearRegression</label><div class=\"sk-toggleable__content\"><pre>LinearRegression()</pre></div></div></div></div></div>"
      ],
      "text/plain": [
       "LinearRegression()"
      ]
     },
     "execution_count": 46,
     "metadata": {},
     "output_type": "execute_result"
    }
   ],
   "source": [
    "model.fit(x_train,y_train)"
   ]
  },
  {
   "cell_type": "code",
   "execution_count": 48,
   "id": "8155603d",
   "metadata": {},
   "outputs": [],
   "source": [
    "pred = model.predict(x_test)"
   ]
  },
  {
   "cell_type": "code",
   "execution_count": 49,
   "id": "ef8ec86d",
   "metadata": {},
   "outputs": [
    {
     "data": {
      "text/plain": [
       "array([16.41227699, 20.84319293, 21.51186915, 10.65309994, 22.12405753,\n",
       "       13.12383506, 21.03748883,  7.50385439, 13.64787029, 15.12040886,\n",
       "        9.02055551,  6.70666642, 14.40155146,  8.88609041,  9.74353333,\n",
       "       12.21551975,  8.71370868, 16.2941451 , 10.26802337, 18.80498245,\n",
       "       19.58864662, 13.22318303, 12.3647867 , 21.31473607,  7.79734749,\n",
       "        5.78189965, 20.74934811, 11.95476656,  9.199109  ,  8.52178704,\n",
       "       12.40431294,  9.94865202, 21.36880272, 12.25374832, 18.29943527,\n",
       "       20.13347356, 14.07464638, 20.88594679, 11.05214979,  4.55168744])"
      ]
     },
     "execution_count": 49,
     "metadata": {},
     "output_type": "execute_result"
    }
   ],
   "source": [
    "pred"
   ]
  },
  {
   "cell_type": "code",
   "execution_count": 50,
   "id": "257dcabb",
   "metadata": {},
   "outputs": [
    {
     "data": {
      "text/plain": [
       "0.8986489151417081"
      ]
     },
     "execution_count": 50,
     "metadata": {},
     "output_type": "execute_result"
    }
   ],
   "source": [
    "model.score(x_test,y_test)"
   ]
  },
  {
   "cell_type": "code",
   "execution_count": 52,
   "id": "4d59a5f0",
   "metadata": {},
   "outputs": [
    {
     "data": {
      "text/html": [
       "<div>\n",
       "<style scoped>\n",
       "    .dataframe tbody tr th:only-of-type {\n",
       "        vertical-align: middle;\n",
       "    }\n",
       "\n",
       "    .dataframe tbody tr th {\n",
       "        vertical-align: top;\n",
       "    }\n",
       "\n",
       "    .dataframe thead th {\n",
       "        text-align: right;\n",
       "    }\n",
       "</style>\n",
       "<table border=\"1\" class=\"dataframe\">\n",
       "  <thead>\n",
       "    <tr style=\"text-align: right;\">\n",
       "      <th></th>\n",
       "      <th>Coefficient</th>\n",
       "    </tr>\n",
       "  </thead>\n",
       "  <tbody>\n",
       "    <tr>\n",
       "      <th>Unnamed: 0</th>\n",
       "      <td>0.038093</td>\n",
       "    </tr>\n",
       "    <tr>\n",
       "      <th>TV</th>\n",
       "      <td>3.763257</td>\n",
       "    </tr>\n",
       "    <tr>\n",
       "      <th>Radio</th>\n",
       "      <td>2.793135</td>\n",
       "    </tr>\n",
       "    <tr>\n",
       "      <th>Newspaper</th>\n",
       "      <td>0.061746</td>\n",
       "    </tr>\n",
       "  </tbody>\n",
       "</table>\n",
       "</div>"
      ],
      "text/plain": [
       "            Coefficient\n",
       "Unnamed: 0     0.038093\n",
       "TV             3.763257\n",
       "Radio          2.793135\n",
       "Newspaper      0.061746"
      ]
     },
     "execution_count": 52,
     "metadata": {},
     "output_type": "execute_result"
    }
   ],
   "source": [
    "coeff_df = pd.DataFrame(model.coef_,x.columns,columns=['Coefficient'])\n",
    "coeff_df"
   ]
  },
  {
   "cell_type": "code",
   "execution_count": null,
   "id": "81c60b66",
   "metadata": {},
   "outputs": [],
   "source": []
  }
 ],
 "metadata": {
  "kernelspec": {
   "display_name": "Python 3 (ipykernel)",
   "language": "python",
   "name": "python3"
  },
  "language_info": {
   "codemirror_mode": {
    "name": "ipython",
    "version": 3
   },
   "file_extension": ".py",
   "mimetype": "text/x-python",
   "name": "python",
   "nbconvert_exporter": "python",
   "pygments_lexer": "ipython3",
   "version": "3.11.1"
  }
 },
 "nbformat": 4,
 "nbformat_minor": 5
}
